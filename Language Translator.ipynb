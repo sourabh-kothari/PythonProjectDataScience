{
    "cells": [
        {
            "metadata": {},
            "cell_type": "code",
            "source": "!pip install ibm_watson wget",
            "execution_count": 3,
            "outputs": [
                {
                    "output_type": "stream",
                    "text": "/opt/conda/envs/Python-3.7-main/lib/python3.7/site-packages/secretstorage/dhcrypto.py:16: CryptographyDeprecationWarning: int_from_bytes is deprecated, use int.from_bytes instead\n  from cryptography.utils import int_from_bytes\n/opt/conda/envs/Python-3.7-main/lib/python3.7/site-packages/secretstorage/util.py:25: CryptographyDeprecationWarning: int_from_bytes is deprecated, use int.from_bytes instead\n  from cryptography.utils import int_from_bytes\nCollecting ibm_watson\n  Downloading ibm-watson-5.2.2.tar.gz (407 kB)\n\u001b[K     |\u2588\u2588\u2588\u2588\u2588\u2588\u2588\u2588\u2588\u2588\u2588\u2588\u2588\u2588\u2588\u2588\u2588\u2588\u2588\u2588\u2588\u2588\u2588\u2588\u2588\u2588\u2588\u2588\u2588\u2588\u2588\u2588| 407 kB 14.1 MB/s eta 0:00:01\n\u001b[?25h  Installing build dependencies ... \u001b[?25ldone\n\u001b[?25h  Getting requirements to build wheel ... \u001b[?25ldone\n\u001b[?25h    Preparing wheel metadata ... \u001b[?25ldone\n\u001b[?25hCollecting wget\n  Downloading wget-3.2.zip (10 kB)\nCollecting ibm-cloud-sdk-core==3.*,>=3.3.6\n  Downloading ibm-cloud-sdk-core-3.10.1.tar.gz (40 kB)\n\u001b[K     |\u2588\u2588\u2588\u2588\u2588\u2588\u2588\u2588\u2588\u2588\u2588\u2588\u2588\u2588\u2588\u2588\u2588\u2588\u2588\u2588\u2588\u2588\u2588\u2588\u2588\u2588\u2588\u2588\u2588\u2588\u2588\u2588| 40 kB 12.4 MB/s eta 0:00:01\n\u001b[?25hCollecting websocket-client==1.1.0\n  Downloading websocket_client-1.1.0-py2.py3-none-any.whl (68 kB)\n\u001b[K     |\u2588\u2588\u2588\u2588\u2588\u2588\u2588\u2588\u2588\u2588\u2588\u2588\u2588\u2588\u2588\u2588\u2588\u2588\u2588\u2588\u2588\u2588\u2588\u2588\u2588\u2588\u2588\u2588\u2588\u2588\u2588\u2588| 68 kB 15.3 MB/s eta 0:00:01\n\u001b[?25hRequirement already satisfied: python-dateutil>=2.5.3 in /opt/conda/envs/Python-3.7-main/lib/python3.7/site-packages (from ibm_watson) (2.8.1)\nRequirement already satisfied: requests<3.0,>=2.0 in /opt/conda/envs/Python-3.7-main/lib/python3.7/site-packages (from ibm_watson) (2.24.0)\nCollecting PyJWT<3.0.0,>=2.0.1\n  Downloading PyJWT-2.1.0-py3-none-any.whl (16 kB)\nRequirement already satisfied: six>=1.5 in /opt/conda/envs/Python-3.7-main/lib/python3.7/site-packages (from python-dateutil>=2.5.3->ibm_watson) (1.15.0)\nRequirement already satisfied: urllib3!=1.25.0,!=1.25.1,<1.26,>=1.21.1 in /opt/conda/envs/Python-3.7-main/lib/python3.7/site-packages (from requests<3.0,>=2.0->ibm_watson) (1.25.9)\nRequirement already satisfied: chardet<4,>=3.0.2 in /opt/conda/envs/Python-3.7-main/lib/python3.7/site-packages (from requests<3.0,>=2.0->ibm_watson) (3.0.4)\nRequirement already satisfied: idna<3,>=2.5 in /opt/conda/envs/Python-3.7-main/lib/python3.7/site-packages (from requests<3.0,>=2.0->ibm_watson) (2.9)\nRequirement already satisfied: certifi>=2017.4.17 in /opt/conda/envs/Python-3.7-main/lib/python3.7/site-packages (from requests<3.0,>=2.0->ibm_watson) (2021.5.30)\nBuilding wheels for collected packages: ibm-watson, wget, ibm-cloud-sdk-core\n  Building wheel for ibm-watson (PEP 517) ... \u001b[?25ldone\n\u001b[?25h  Created wheel for ibm-watson: filename=ibm_watson-5.2.2-py3-none-any.whl size=403389 sha256=7a7eff8742ce159790634e4e3e951ce1fb63055029c20003e2caa63775535981\n  Stored in directory: /tmp/wsuser/.cache/pip/wheels/64/af/0b/1f0f7f72a47e98ebbd1119568cca47e480969ef9dd688c70d6\n  Building wheel for wget (setup.py) ... \u001b[?25ldone\n\u001b[?25h  Created wheel for wget: filename=wget-3.2-py3-none-any.whl size=9681 sha256=94593f5dd9cf9f96f8a9425ecda91847f554f6f9ff954c265e48002bafbd8cd3\n  Stored in directory: /tmp/wsuser/.cache/pip/wheels/a1/b6/7c/0e63e34eb06634181c63adacca38b79ff8f35c37e3c13e3c02\n  Building wheel for ibm-cloud-sdk-core (setup.py) ... \u001b[?25ldone\n\u001b[?25h  Created wheel for ibm-cloud-sdk-core: filename=ibm_cloud_sdk_core-3.10.1-py3-none-any.whl size=61764 sha256=9207ca8bb49a69964104dd2c5b8caff8260baa5ebef36ede49f725e97f2ccb94\n  Stored in directory: /tmp/wsuser/.cache/pip/wheels/db/0c/7e/f377d38b5729ec554daa3f81a010d2b466ff045ee8216cecb3\nSuccessfully built ibm-watson wget ibm-cloud-sdk-core\nInstalling collected packages: PyJWT, ibm-cloud-sdk-core, websocket-client, ibm-watson, wget\n  Attempting uninstall: PyJWT\n    Found existing installation: PyJWT 1.7.1\n    Uninstalling PyJWT-1.7.1:\n      Successfully uninstalled PyJWT-1.7.1\n  Attempting uninstall: ibm-cloud-sdk-core\n    Found existing installation: ibm-cloud-sdk-core 3.2.0\n    Uninstalling ibm-cloud-sdk-core-3.2.0:\n      Successfully uninstalled ibm-cloud-sdk-core-3.2.0\nSuccessfully installed PyJWT-2.1.0 ibm-cloud-sdk-core-3.10.1 ibm-watson-5.2.2 websocket-client-1.1.0 wget-3.2\n",
                    "name": "stdout"
                }
            ]
        },
        {
            "metadata": {},
            "cell_type": "code",
            "source": "from ibm_cloud_sdk_core.authenticators import IAMAuthenticator\nimport json\nfrom ibm_watson import LanguageTranslatorV3",
            "execution_count": 4,
            "outputs": []
        },
        {
            "metadata": {},
            "cell_type": "code",
            "source": "url_lt=''",
            "execution_count": 5,
            "outputs": []
        },
        {
            "metadata": {},
            "cell_type": "code",
            "source": "apikey_lt=''",
            "execution_count": 6,
            "outputs": []
        },
        {
            "metadata": {},
            "cell_type": "code",
            "source": "version_lt='2018-05-01'",
            "execution_count": 7,
            "outputs": []
        },
        {
            "metadata": {},
            "cell_type": "code",
            "source": "authenticator = IAMAuthenticator(apikey_lt)\nlanguage_translator = LanguageTranslatorV3(version=version_lt,authenticator=authenticator)\nlanguage_translator.set_service_url(url_lt)\nlanguage_translator",
            "execution_count": 8,
            "outputs": [
                {
                    "output_type": "execute_result",
                    "execution_count": 8,
                    "data": {
                        "text/plain": "<ibm_watson.language_translator_v3.LanguageTranslatorV3 at 0x7f434dadea50>"
                    },
                    "metadata": {}
                }
            ]
        },
        {
            "metadata": {},
            "cell_type": "code",
            "source": "from pandas import json_normalize\n\njson_normalize(language_translator.list_identifiable_languages().get_result(), \"languages\")",
            "execution_count": 9,
            "outputs": [
                {
                    "output_type": "execute_result",
                    "execution_count": 9,
                    "data": {
                        "text/plain": "   language                 name\n0        af            Afrikaans\n1        ar               Arabic\n2        az          Azerbaijani\n3        ba              Bashkir\n4        be           Belarusian\n..      ...                  ...\n71       uk            Ukrainian\n72       ur                 Urdu\n73       vi           Vietnamese\n74       zh   Simplified Chinese\n75    zh-TW  Traditional Chinese\n\n[76 rows x 2 columns]",
                        "text/html": "<div>\n<style scoped>\n    .dataframe tbody tr th:only-of-type {\n        vertical-align: middle;\n    }\n\n    .dataframe tbody tr th {\n        vertical-align: top;\n    }\n\n    .dataframe thead th {\n        text-align: right;\n    }\n</style>\n<table border=\"1\" class=\"dataframe\">\n  <thead>\n    <tr style=\"text-align: right;\">\n      <th></th>\n      <th>language</th>\n      <th>name</th>\n    </tr>\n  </thead>\n  <tbody>\n    <tr>\n      <th>0</th>\n      <td>af</td>\n      <td>Afrikaans</td>\n    </tr>\n    <tr>\n      <th>1</th>\n      <td>ar</td>\n      <td>Arabic</td>\n    </tr>\n    <tr>\n      <th>2</th>\n      <td>az</td>\n      <td>Azerbaijani</td>\n    </tr>\n    <tr>\n      <th>3</th>\n      <td>ba</td>\n      <td>Bashkir</td>\n    </tr>\n    <tr>\n      <th>4</th>\n      <td>be</td>\n      <td>Belarusian</td>\n    </tr>\n    <tr>\n      <th>...</th>\n      <td>...</td>\n      <td>...</td>\n    </tr>\n    <tr>\n      <th>71</th>\n      <td>uk</td>\n      <td>Ukrainian</td>\n    </tr>\n    <tr>\n      <th>72</th>\n      <td>ur</td>\n      <td>Urdu</td>\n    </tr>\n    <tr>\n      <th>73</th>\n      <td>vi</td>\n      <td>Vietnamese</td>\n    </tr>\n    <tr>\n      <th>74</th>\n      <td>zh</td>\n      <td>Simplified Chinese</td>\n    </tr>\n    <tr>\n      <th>75</th>\n      <td>zh-TW</td>\n      <td>Traditional Chinese</td>\n    </tr>\n  </tbody>\n</table>\n<p>76 rows \u00d7 2 columns</p>\n</div>"
                    },
                    "metadata": {}
                }
            ]
        },
        {
            "metadata": {},
            "cell_type": "code",
            "source": "recognized_text='hello this is python'\ntranslation_response = language_translator.translate(\n    text=recognized_text, model_id='en-es')\ntranslation_response",
            "execution_count": 15,
            "outputs": [
                {
                    "output_type": "execute_result",
                    "execution_count": 15,
                    "data": {
                        "text/plain": "<ibm_cloud_sdk_core.detailed_response.DetailedResponse at 0x7f4333568d10>"
                    },
                    "metadata": {}
                }
            ]
        },
        {
            "metadata": {},
            "cell_type": "code",
            "source": "translation=translation_response.get_result()\ntranslation",
            "execution_count": 16,
            "outputs": [
                {
                    "output_type": "execute_result",
                    "execution_count": 16,
                    "data": {
                        "text/plain": "{'translations': [{'translation': 'hola es python'}],\n 'word_count': 4,\n 'character_count': 20}"
                    },
                    "metadata": {}
                }
            ]
        },
        {
            "metadata": {},
            "cell_type": "code",
            "source": "spanish_translation =translation['translations'][0]['translation']\nspanish_translation ",
            "execution_count": 17,
            "outputs": [
                {
                    "output_type": "execute_result",
                    "execution_count": 17,
                    "data": {
                        "text/plain": "'hola es python'"
                    },
                    "metadata": {}
                }
            ]
        },
        {
            "metadata": {},
            "cell_type": "code",
            "source": "translation_new = language_translator.translate(text=spanish_translation ,model_id='es-en').get_result()",
            "execution_count": 18,
            "outputs": []
        },
        {
            "metadata": {},
            "cell_type": "code",
            "source": "translation_eng=translation_new['translations'][0]['translation']\ntranslation_eng",
            "execution_count": 19,
            "outputs": [
                {
                    "output_type": "execute_result",
                    "execution_count": 19,
                    "data": {
                        "text/plain": "'hello is python'"
                    },
                    "metadata": {}
                }
            ]
        },
        {
            "metadata": {},
            "cell_type": "code",
            "source": "",
            "execution_count": null,
            "outputs": []
        }
    ],
    "metadata": {
        "kernelspec": {
            "name": "python3",
            "display_name": "Python 3.7",
            "language": "python"
        },
        "language_info": {
            "name": "python",
            "version": "3.7.10",
            "mimetype": "text/x-python",
            "codemirror_mode": {
                "name": "ipython",
                "version": 3
            },
            "pygments_lexer": "ipython3",
            "nbconvert_exporter": "python",
            "file_extension": ".py"
        }
    },
    "nbformat": 4,
    "nbformat_minor": 1
}